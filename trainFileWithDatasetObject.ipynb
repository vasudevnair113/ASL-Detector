{
 "cells": [
  {
   "cell_type": "code",
   "execution_count": 1,
   "metadata": {
    "execution": {
     "iopub.execute_input": "2024-11-18T00:53:35.483970Z",
     "iopub.status.busy": "2024-11-18T00:53:35.483510Z",
     "iopub.status.idle": "2024-11-18T00:54:06.087175Z",
     "shell.execute_reply": "2024-11-18T00:54:06.085962Z",
     "shell.execute_reply.started": "2024-11-18T00:53:35.483929Z"
    }
   },
   "outputs": [
    {
     "name": "stdout",
     "output_type": "stream",
     "text": [
      "Requirement already satisfied: numpy in /usr/local/lib/python3.11/dist-packages (1.26.3)\n",
      "\u001b[33mWARNING: Running pip as the 'root' user can result in broken permissions and conflicting behaviour with the system package manager. It is recommended to use a virtual environment instead: https://pip.pypa.io/warnings/venv\u001b[0m\u001b[33m\n",
      "\u001b[0mNote: you may need to restart the kernel to use updated packages.\n",
      "Requirement already satisfied: keras in /usr/local/lib/python3.11/dist-packages (2.15.0)\n",
      "\u001b[33mWARNING: Running pip as the 'root' user can result in broken permissions and conflicting behaviour with the system package manager. It is recommended to use a virtual environment instead: https://pip.pypa.io/warnings/venv\u001b[0m\u001b[33m\n",
      "\u001b[0mNote: you may need to restart the kernel to use updated packages.\n",
      "Requirement already satisfied: TensorFlow in /usr/local/lib/python3.11/dist-packages (2.15.0)\n",
      "Requirement already satisfied: absl-py>=1.0.0 in /usr/local/lib/python3.11/dist-packages (from TensorFlow) (2.1.0)\n",
      "Requirement already satisfied: astunparse>=1.6.0 in /usr/local/lib/python3.11/dist-packages (from TensorFlow) (1.6.3)\n",
      "Requirement already satisfied: flatbuffers>=23.5.26 in /usr/local/lib/python3.11/dist-packages (from TensorFlow) (23.5.26)\n",
      "Requirement already satisfied: gast!=0.5.0,!=0.5.1,!=0.5.2,>=0.2.1 in /usr/local/lib/python3.11/dist-packages (from TensorFlow) (0.5.4)\n",
      "Requirement already satisfied: google-pasta>=0.1.1 in /usr/local/lib/python3.11/dist-packages (from TensorFlow) (0.2.0)\n",
      "Requirement already satisfied: h5py>=2.9.0 in /usr/local/lib/python3.11/dist-packages (from TensorFlow) (3.10.0)\n",
      "Requirement already satisfied: libclang>=13.0.0 in /usr/local/lib/python3.11/dist-packages (from TensorFlow) (16.0.6)\n",
      "Requirement already satisfied: ml-dtypes~=0.2.0 in /usr/local/lib/python3.11/dist-packages (from TensorFlow) (0.2.0)\n",
      "Requirement already satisfied: numpy<2.0.0,>=1.23.5 in /usr/local/lib/python3.11/dist-packages (from TensorFlow) (1.26.3)\n",
      "Requirement already satisfied: opt-einsum>=2.3.2 in /usr/local/lib/python3.11/dist-packages (from TensorFlow) (3.3.0)\n",
      "Requirement already satisfied: packaging in /usr/local/lib/python3.11/dist-packages (from TensorFlow) (23.2)\n",
      "Requirement already satisfied: protobuf!=4.21.0,!=4.21.1,!=4.21.2,!=4.21.3,!=4.21.4,!=4.21.5,<5.0.0dev,>=3.20.3 in /usr/local/lib/python3.11/dist-packages (from TensorFlow) (4.23.4)\n",
      "Requirement already satisfied: setuptools in /usr/local/lib/python3.11/dist-packages (from TensorFlow) (69.0.3)\n",
      "Requirement already satisfied: six>=1.12.0 in /usr/lib/python3/dist-packages (from TensorFlow) (1.16.0)\n",
      "Requirement already satisfied: termcolor>=1.1.0 in /usr/local/lib/python3.11/dist-packages (from TensorFlow) (2.4.0)\n",
      "Requirement already satisfied: typing-extensions>=3.6.6 in /usr/local/lib/python3.11/dist-packages (from TensorFlow) (4.9.0)\n",
      "Requirement already satisfied: wrapt<1.15,>=1.11.0 in /usr/local/lib/python3.11/dist-packages (from TensorFlow) (1.14.1)\n",
      "Requirement already satisfied: tensorflow-io-gcs-filesystem>=0.23.1 in /usr/local/lib/python3.11/dist-packages (from TensorFlow) (0.35.0)\n",
      "Requirement already satisfied: grpcio<2.0,>=1.24.3 in /usr/local/lib/python3.11/dist-packages (from TensorFlow) (1.60.0)\n",
      "Requirement already satisfied: tensorboard<2.16,>=2.15 in /usr/local/lib/python3.11/dist-packages (from TensorFlow) (2.15.1)\n",
      "Requirement already satisfied: tensorflow-estimator<2.16,>=2.15.0 in /usr/local/lib/python3.11/dist-packages (from TensorFlow) (2.15.0)\n",
      "Requirement already satisfied: keras<2.16,>=2.15.0 in /usr/local/lib/python3.11/dist-packages (from TensorFlow) (2.15.0)\n",
      "Requirement already satisfied: wheel<1.0,>=0.23.0 in /usr/local/lib/python3.11/dist-packages (from astunparse>=1.6.0->TensorFlow) (0.35.1)\n",
      "Requirement already satisfied: google-auth<3,>=1.6.3 in /usr/local/lib/python3.11/dist-packages (from tensorboard<2.16,>=2.15->TensorFlow) (2.26.2)\n",
      "Requirement already satisfied: google-auth-oauthlib<2,>=0.5 in /usr/local/lib/python3.11/dist-packages (from tensorboard<2.16,>=2.15->TensorFlow) (1.2.0)\n",
      "Requirement already satisfied: markdown>=2.6.8 in /usr/local/lib/python3.11/dist-packages (from tensorboard<2.16,>=2.15->TensorFlow) (3.5.2)\n",
      "Requirement already satisfied: requests<3,>=2.21.0 in /usr/local/lib/python3.11/dist-packages (from tensorboard<2.16,>=2.15->TensorFlow) (2.31.0)\n",
      "Requirement already satisfied: tensorboard-data-server<0.8.0,>=0.7.0 in /usr/local/lib/python3.11/dist-packages (from tensorboard<2.16,>=2.15->TensorFlow) (0.7.2)\n",
      "Requirement already satisfied: werkzeug>=1.0.1 in /usr/local/lib/python3.11/dist-packages (from tensorboard<2.16,>=2.15->TensorFlow) (3.0.1)\n",
      "Requirement already satisfied: cachetools<6.0,>=2.0.0 in /usr/local/lib/python3.11/dist-packages (from google-auth<3,>=1.6.3->tensorboard<2.16,>=2.15->TensorFlow) (5.3.2)\n",
      "Requirement already satisfied: pyasn1-modules>=0.2.1 in /usr/local/lib/python3.11/dist-packages (from google-auth<3,>=1.6.3->tensorboard<2.16,>=2.15->TensorFlow) (0.3.0)\n",
      "Requirement already satisfied: rsa<5,>=3.1.4 in /usr/lib/python3/dist-packages (from google-auth<3,>=1.6.3->tensorboard<2.16,>=2.15->TensorFlow) (4.8)\n",
      "Requirement already satisfied: requests-oauthlib>=0.7.0 in /usr/local/lib/python3.11/dist-packages (from google-auth-oauthlib<2,>=0.5->tensorboard<2.16,>=2.15->TensorFlow) (1.3.1)\n",
      "Requirement already satisfied: charset-normalizer<4,>=2 in /usr/local/lib/python3.11/dist-packages (from requests<3,>=2.21.0->tensorboard<2.16,>=2.15->TensorFlow) (3.3.2)\n",
      "Requirement already satisfied: idna<4,>=2.5 in /usr/lib/python3/dist-packages (from requests<3,>=2.21.0->tensorboard<2.16,>=2.15->TensorFlow) (3.3)\n",
      "Requirement already satisfied: urllib3<3,>=1.21.1 in /usr/local/lib/python3.11/dist-packages (from requests<3,>=2.21.0->tensorboard<2.16,>=2.15->TensorFlow) (2.0.7)\n",
      "Requirement already satisfied: certifi>=2017.4.17 in /usr/lib/python3/dist-packages (from requests<3,>=2.21.0->tensorboard<2.16,>=2.15->TensorFlow) (2020.6.20)\n",
      "Requirement already satisfied: MarkupSafe>=2.1.1 in /usr/local/lib/python3.11/dist-packages (from werkzeug>=1.0.1->tensorboard<2.16,>=2.15->TensorFlow) (2.1.4)\n",
      "Requirement already satisfied: pyasn1<0.6.0,>=0.4.6 in /usr/lib/python3/dist-packages (from pyasn1-modules>=0.2.1->google-auth<3,>=1.6.3->tensorboard<2.16,>=2.15->TensorFlow) (0.4.8)\n",
      "Requirement already satisfied: oauthlib>=3.0.0 in /usr/lib/python3/dist-packages (from requests-oauthlib>=0.7.0->google-auth-oauthlib<2,>=0.5->tensorboard<2.16,>=2.15->TensorFlow) (3.2.0)\n",
      "\u001b[33mWARNING: Running pip as the 'root' user can result in broken permissions and conflicting behaviour with the system package manager. It is recommended to use a virtual environment instead: https://pip.pypa.io/warnings/venv\u001b[0m\u001b[33m\n",
      "\u001b[0mNote: you may need to restart the kernel to use updated packages.\n",
      "Requirement already satisfied: matplotlib in /usr/local/lib/python3.11/dist-packages (3.7.3)\n",
      "Requirement already satisfied: contourpy>=1.0.1 in /usr/local/lib/python3.11/dist-packages (from matplotlib) (1.2.0)\n",
      "Requirement already satisfied: cycler>=0.10 in /usr/local/lib/python3.11/dist-packages (from matplotlib) (0.12.1)\n",
      "Requirement already satisfied: fonttools>=4.22.0 in /usr/local/lib/python3.11/dist-packages (from matplotlib) (4.47.2)\n",
      "Requirement already satisfied: kiwisolver>=1.0.1 in /usr/local/lib/python3.11/dist-packages (from matplotlib) (1.4.5)\n",
      "Requirement already satisfied: numpy<2,>=1.20 in /usr/local/lib/python3.11/dist-packages (from matplotlib) (1.26.3)\n",
      "Requirement already satisfied: packaging>=20.0 in /usr/local/lib/python3.11/dist-packages (from matplotlib) (23.2)\n",
      "Requirement already satisfied: pillow>=6.2.0 in /usr/local/lib/python3.11/dist-packages (from matplotlib) (9.5.0)\n",
      "Requirement already satisfied: pyparsing>=2.3.1 in /usr/lib/python3/dist-packages (from matplotlib) (2.4.7)\n",
      "Requirement already satisfied: python-dateutil>=2.7 in /usr/local/lib/python3.11/dist-packages (from matplotlib) (2.8.2)\n",
      "Requirement already satisfied: six>=1.5 in /usr/lib/python3/dist-packages (from python-dateutil>=2.7->matplotlib) (1.16.0)\n",
      "\u001b[33mWARNING: Running pip as the 'root' user can result in broken permissions and conflicting behaviour with the system package manager. It is recommended to use a virtual environment instead: https://pip.pypa.io/warnings/venv\u001b[0m\u001b[33m\n",
      "\u001b[0mNote: you may need to restart the kernel to use updated packages.\n",
      "\u001b[31mERROR: Could not find a version that satisfies the requirement os (from versions: none)\u001b[0m\u001b[31m\n",
      "\u001b[0m\u001b[31mERROR: No matching distribution found for os\u001b[0m\u001b[31m\n",
      "\u001b[0mNote: you may need to restart the kernel to use updated packages.\n",
      "\u001b[31mERROR: Could not find a version that satisfies the requirement glob (from versions: none)\u001b[0m\u001b[31m\n",
      "\u001b[0m\u001b[31mERROR: No matching distribution found for glob\u001b[0m\u001b[31m\n",
      "\u001b[0mNote: you may need to restart the kernel to use updated packages.\n",
      "Requirement already satisfied: opencv-python in /usr/local/lib/python3.11/dist-packages (4.8.0.76)\n",
      "Requirement already satisfied: numpy>=1.21.2 in /usr/local/lib/python3.11/dist-packages (from opencv-python) (1.26.3)\n",
      "\u001b[33mWARNING: Running pip as the 'root' user can result in broken permissions and conflicting behaviour with the system package manager. It is recommended to use a virtual environment instead: https://pip.pypa.io/warnings/venv\u001b[0m\u001b[33m\n",
      "\u001b[0mNote: you may need to restart the kernel to use updated packages.\n",
      "Requirement already satisfied: kagglehub in /usr/local/lib/python3.11/dist-packages (0.3.4)\n",
      "Requirement already satisfied: packaging in /usr/local/lib/python3.11/dist-packages (from kagglehub) (23.2)\n",
      "Requirement already satisfied: requests in /usr/local/lib/python3.11/dist-packages (from kagglehub) (2.31.0)\n",
      "Requirement already satisfied: tqdm in /usr/local/lib/python3.11/dist-packages (from kagglehub) (4.66.1)\n",
      "Requirement already satisfied: charset-normalizer<4,>=2 in /usr/local/lib/python3.11/dist-packages (from requests->kagglehub) (3.3.2)\n",
      "Requirement already satisfied: idna<4,>=2.5 in /usr/lib/python3/dist-packages (from requests->kagglehub) (3.3)\n",
      "Requirement already satisfied: urllib3<3,>=1.21.1 in /usr/local/lib/python3.11/dist-packages (from requests->kagglehub) (2.0.7)\n",
      "Requirement already satisfied: certifi>=2017.4.17 in /usr/lib/python3/dist-packages (from requests->kagglehub) (2020.6.20)\n",
      "\u001b[33mWARNING: Running pip as the 'root' user can result in broken permissions and conflicting behaviour with the system package manager. It is recommended to use a virtual environment instead: https://pip.pypa.io/warnings/venv\u001b[0m\u001b[33m\n",
      "\u001b[0mNote: you may need to restart the kernel to use updated packages.\n"
     ]
    },
    {
     "name": "stderr",
     "output_type": "stream",
     "text": [
      "2024-11-18 00:54:01.781314: E external/local_xla/xla/stream_executor/cuda/cuda_dnn.cc:9261] Unable to register cuDNN factory: Attempting to register factory for plugin cuDNN when one has already been registered\n",
      "2024-11-18 00:54:01.781405: E external/local_xla/xla/stream_executor/cuda/cuda_fft.cc:607] Unable to register cuFFT factory: Attempting to register factory for plugin cuFFT when one has already been registered\n",
      "2024-11-18 00:54:01.782948: E external/local_xla/xla/stream_executor/cuda/cuda_blas.cc:1515] Unable to register cuBLAS factory: Attempting to register factory for plugin cuBLAS when one has already been registered\n",
      "2024-11-18 00:54:01.792434: I tensorflow/core/platform/cpu_feature_guard.cc:182] This TensorFlow binary is optimized to use available CPU instructions in performance-critical operations.\n",
      "To enable the following instructions: AVX2 FMA, in other operations, rebuild TensorFlow with the appropriate compiler flags.\n",
      "2024-11-18 00:54:03.021990: W tensorflow/compiler/tf2tensorrt/utils/py_utils.cc:38] TF-TRT Warning: Could not find TensorRT\n"
     ]
    },
    {
     "name": "stdout",
     "output_type": "stream",
     "text": [
      "Path to dataset files: /root/.cache/kagglehub/datasets/grassknoted/asl-alphabet/versions/1\n"
     ]
    }
   ],
   "source": [
    "%pip install numpy\n",
    "%pip install keras\n",
    "%pip install TensorFlow\n",
    "%pip install matplotlib\n",
    "%pip install os\n",
    "%pip install glob\n",
    "%pip install opencv-python\n",
    "%pip install kagglehub\n",
    "#all imports\n",
    "import kagglehub\n",
    "import tensorflow as tf\n",
    "import kagglehub\n",
    "from tensorflow import keras\n",
    "from keras.preprocessing.image import ImageDataGenerator\n",
    "from keras.optimizers import Adam\n",
    "from keras.preprocessing.image import img_to_array\n",
    "from keras.utils import to_categorical, plot_model\n",
    "from keras.models import Sequential\n",
    "from keras.layers import BatchNormalization, Conv2D, MaxPooling2D, Activation, Flatten, Dropout, Dense\n",
    "from keras import backend as K\n",
    "from sklearn.model_selection import train_test_split\n",
    "import matplotlib.pyplot as plt\n",
    "import numpy as np\n",
    "import random\n",
    "import cv2\n",
    "import os\n",
    "import glob\n",
    "\n",
    "path = kagglehub.dataset_download(\"grassknoted/asl-alphabet\")\n",
    "print(\"Path to dataset files:\", path)"
   ]
  },
  {
   "cell_type": "code",
   "execution_count": 2,
   "metadata": {
    "execution": {
     "iopub.execute_input": "2024-11-18T00:54:06.090599Z",
     "iopub.status.busy": "2024-11-18T00:54:06.089510Z",
     "iopub.status.idle": "2024-11-18T00:54:06.527724Z",
     "shell.execute_reply": "2024-11-18T00:54:06.526576Z",
     "shell.execute_reply.started": "2024-11-18T00:54:06.090562Z"
    }
   },
   "outputs": [
    {
     "name": "stdout",
     "output_type": "stream",
     "text": [
      "Path to dataset files: /root/.cache/kagglehub/datasets/grassknoted/asl-alphabet/versions/1\n"
     ]
    }
   ],
   "source": [
    "path = kagglehub.dataset_download(\"grassknoted/asl-alphabet\")\n",
    "print(\"Path to dataset files:\", path)"
   ]
  },
  {
   "cell_type": "code",
   "execution_count": 3,
   "metadata": {
    "execution": {
     "iopub.execute_input": "2024-11-18T00:54:06.529488Z",
     "iopub.status.busy": "2024-11-18T00:54:06.529213Z",
     "iopub.status.idle": "2024-11-18T00:54:06.556789Z",
     "shell.execute_reply": "2024-11-18T00:54:06.555857Z",
     "shell.execute_reply.started": "2024-11-18T00:54:06.529463Z"
    }
   },
   "outputs": [
    {
     "name": "stdout",
     "output_type": "stream",
     "text": [
      "A\n",
      "B\n",
      "C\n",
      "D\n",
      "E\n",
      "F\n",
      "G\n",
      "H\n",
      "I\n",
      "J\n",
      "K\n",
      "L\n",
      "M\n",
      "N\n",
      "O\n",
      "P\n",
      "Q\n",
      "R\n",
      "S\n",
      "T\n",
      "U\n",
      "V\n",
      "W\n",
      "X\n",
      "Y\n",
      "Z\n"
     ]
    },
    {
     "data": {
      "text/plain": [
       "0"
      ]
     },
     "execution_count": 3,
     "metadata": {},
     "output_type": "execute_result"
    }
   ],
   "source": [
    "os.system(\"ls /root/.cache/kagglehub/datasets/grassknoted/asl-alphabet/versions/1/asl_alphabet_train/asl_alphabet_train/\")\n",
    "os.system(\"rm -rf /root/.cache/kagglehub/datasets/grassknoted/asl-alphabet/versions/1/asl_alphabet_train/asl_alphabet_train/nothing\")\n",
    "os.system(\"rm -rf /root/.cache/kagglehub/datasets/grassknoted/asl-alphabet/versions/1/asl_alphabet_train/asl_alphabet_train/space\")\n",
    "os.system(\"rm -rf /root/.cache/kagglehub/datasets/grassknoted/asl-alphabet/versions/1/asl_alphabet_train/asl_alphabet_train/del\")\n",
    "os.system(\"rm -rf /root/.cache/kagglehub/datasets/grassknoted/asl-alphabet/versions/1/asl_alphabet_test/asl_alphabet_test/space_test.jpg\")\n",
    "os.system(\"rm -rf /root/.cache/kagglehub/datasets/grassknoted/asl-alphabet/versions/1/asl_alphabet_test/asl_alphabet_test/nothing_test.jpg\")\n"
   ]
  },
  {
   "cell_type": "code",
   "execution_count": 4,
   "metadata": {
    "execution": {
     "iopub.execute_input": "2024-11-18T00:54:06.558779Z",
     "iopub.status.busy": "2024-11-18T00:54:06.558497Z",
     "iopub.status.idle": "2024-11-18T00:54:08.593753Z",
     "shell.execute_reply": "2024-11-18T00:54:08.592883Z",
     "shell.execute_reply.started": "2024-11-18T00:54:06.558755Z"
    }
   },
   "outputs": [
    {
     "name": "stdout",
     "output_type": "stream",
     "text": [
      "Num GPUs Available:  1\n",
      "TensorFlow version: 2.15.0\n"
     ]
    },
    {
     "name": "stderr",
     "output_type": "stream",
     "text": [
      "2024-11-18 00:54:06.625442: I external/local_xla/xla/stream_executor/cuda/cuda_executor.cc:901] successful NUMA node read from SysFS had negative value (-1), but there must be at least one NUMA node, so returning NUMA node zero. See more at https://github.com/torvalds/linux/blob/v6.0/Documentation/ABI/testing/sysfs-bus-pci#L344-L355\n",
      "2024-11-18 00:54:06.672022: I external/local_xla/xla/stream_executor/cuda/cuda_executor.cc:901] successful NUMA node read from SysFS had negative value (-1), but there must be at least one NUMA node, so returning NUMA node zero. See more at https://github.com/torvalds/linux/blob/v6.0/Documentation/ABI/testing/sysfs-bus-pci#L344-L355\n",
      "2024-11-18 00:54:06.672325: I external/local_xla/xla/stream_executor/cuda/cuda_executor.cc:901] successful NUMA node read from SysFS had negative value (-1), but there must be at least one NUMA node, so returning NUMA node zero. See more at https://github.com/torvalds/linux/blob/v6.0/Documentation/ABI/testing/sysfs-bus-pci#L344-L355\n",
      "2024-11-18 00:54:06.675653: I external/local_xla/xla/stream_executor/cuda/cuda_executor.cc:901] successful NUMA node read from SysFS had negative value (-1), but there must be at least one NUMA node, so returning NUMA node zero. See more at https://github.com/torvalds/linux/blob/v6.0/Documentation/ABI/testing/sysfs-bus-pci#L344-L355\n",
      "2024-11-18 00:54:06.676001: I external/local_xla/xla/stream_executor/cuda/cuda_executor.cc:901] successful NUMA node read from SysFS had negative value (-1), but there must be at least one NUMA node, so returning NUMA node zero. See more at https://github.com/torvalds/linux/blob/v6.0/Documentation/ABI/testing/sysfs-bus-pci#L344-L355\n",
      "2024-11-18 00:54:06.676215: I external/local_xla/xla/stream_executor/cuda/cuda_executor.cc:901] successful NUMA node read from SysFS had negative value (-1), but there must be at least one NUMA node, so returning NUMA node zero. See more at https://github.com/torvalds/linux/blob/v6.0/Documentation/ABI/testing/sysfs-bus-pci#L344-L355\n",
      "2024-11-18 00:54:08.586823: I external/local_xla/xla/stream_executor/cuda/cuda_executor.cc:901] successful NUMA node read from SysFS had negative value (-1), but there must be at least one NUMA node, so returning NUMA node zero. See more at https://github.com/torvalds/linux/blob/v6.0/Documentation/ABI/testing/sysfs-bus-pci#L344-L355\n",
      "2024-11-18 00:54:08.587096: I external/local_xla/xla/stream_executor/cuda/cuda_executor.cc:901] successful NUMA node read from SysFS had negative value (-1), but there must be at least one NUMA node, so returning NUMA node zero. See more at https://github.com/torvalds/linux/blob/v6.0/Documentation/ABI/testing/sysfs-bus-pci#L344-L355\n",
      "2024-11-18 00:54:08.587302: I external/local_xla/xla/stream_executor/cuda/cuda_executor.cc:901] successful NUMA node read from SysFS had negative value (-1), but there must be at least one NUMA node, so returning NUMA node zero. See more at https://github.com/torvalds/linux/blob/v6.0/Documentation/ABI/testing/sysfs-bus-pci#L344-L355\n",
      "2024-11-18 00:54:08.587435: I tensorflow/core/common_runtime/gpu/gpu_device.cc:1929] Created device /job:localhost/replica:0/task:0/device:GPU:0 with 15526 MB memory:  -> device: 0, name: Quadro P5000, pci bus id: 0000:00:05.0, compute capability: 6.1\n"
     ]
    }
   ],
   "source": [
    "print(\"Num GPUs Available: \", len(tf.config.experimental.list_physical_devices('GPU')))\n",
    "physical_devices = tf.config.list_physical_devices('GPU')\n",
    "for device in physical_devices:\n",
    "    tf.config.experimental.set_memory_growth(device, True)\n",
    "tf.config.experimental.get_memory_info('GPU:0')\n",
    "gpu = tf.config.list_physical_devices('GPU')[0]\n",
    "tf.config.experimental.set_memory_growth(gpu, True)\n",
    "print(\"TensorFlow version:\", tf.__version__)\n",
    "#print(\"TensorRT version:\", tf.experimental.tensorrt.version())"
   ]
  },
  {
   "cell_type": "code",
   "execution_count": 5,
   "metadata": {
    "execution": {
     "iopub.execute_input": "2024-11-18T00:54:08.595251Z",
     "iopub.status.busy": "2024-11-18T00:54:08.595008Z",
     "iopub.status.idle": "2024-11-18T00:54:08.729571Z",
     "shell.execute_reply": "2024-11-18T00:54:08.728828Z",
     "shell.execute_reply.started": "2024-11-18T00:54:08.595227Z"
    }
   },
   "outputs": [
    {
     "name": "stderr",
     "output_type": "stream",
     "text": [
      "mkdir: cannot create directory ‘/root/.cache/kagglehub/datasets/grassknoted/asl-alphabet/versions/1/asl_alphabet_train/newtesting’: File exists\n",
      "mv: cannot stat '/root/.cache/kagglehub/datasets/grassknoted/asl-alphabet/versions/1/asl_alphabet_train/asl_alphabet_train/A/A15*.jpg': No such file or directory\n",
      "mv: cannot stat '/root/.cache/kagglehub/datasets/grassknoted/asl-alphabet/versions/1/asl_alphabet_train/asl_alphabet_train/B/B15*.jpg': No such file or directory\n",
      "mv: cannot stat '/root/.cache/kagglehub/datasets/grassknoted/asl-alphabet/versions/1/asl_alphabet_train/asl_alphabet_train/C/C15*.jpg': No such file or directory\n",
      "mv: cannot stat '/root/.cache/kagglehub/datasets/grassknoted/asl-alphabet/versions/1/asl_alphabet_train/asl_alphabet_train/D/D15*.jpg': No such file or directory\n",
      "mv: cannot stat '/root/.cache/kagglehub/datasets/grassknoted/asl-alphabet/versions/1/asl_alphabet_train/asl_alphabet_train/E/E15*.jpg': No such file or directory\n",
      "mv: cannot stat '/root/.cache/kagglehub/datasets/grassknoted/asl-alphabet/versions/1/asl_alphabet_train/asl_alphabet_train/F/F15*.jpg': No such file or directory\n",
      "mv: cannot stat '/root/.cache/kagglehub/datasets/grassknoted/asl-alphabet/versions/1/asl_alphabet_train/asl_alphabet_train/G/G15*.jpg': No such file or directory\n",
      "mv: cannot stat '/root/.cache/kagglehub/datasets/grassknoted/asl-alphabet/versions/1/asl_alphabet_train/asl_alphabet_train/H/H15*.jpg': No such file or directory\n",
      "mv: cannot stat '/root/.cache/kagglehub/datasets/grassknoted/asl-alphabet/versions/1/asl_alphabet_train/asl_alphabet_train/I/I15*.jpg': No such file or directory\n",
      "mv: cannot stat '/root/.cache/kagglehub/datasets/grassknoted/asl-alphabet/versions/1/asl_alphabet_train/asl_alphabet_train/J/J15*.jpg': No such file or directory\n",
      "mv: cannot stat '/root/.cache/kagglehub/datasets/grassknoted/asl-alphabet/versions/1/asl_alphabet_train/asl_alphabet_train/K/K15*.jpg': No such file or directory\n",
      "mv: cannot stat '/root/.cache/kagglehub/datasets/grassknoted/asl-alphabet/versions/1/asl_alphabet_train/asl_alphabet_train/L/L15*.jpg': No such file or directory\n",
      "mv: cannot stat '/root/.cache/kagglehub/datasets/grassknoted/asl-alphabet/versions/1/asl_alphabet_train/asl_alphabet_train/M/M15*.jpg': No such file or directory\n",
      "mv: cannot stat '/root/.cache/kagglehub/datasets/grassknoted/asl-alphabet/versions/1/asl_alphabet_train/asl_alphabet_train/N/N15*.jpg': No such file or directory\n",
      "mv: cannot stat '/root/.cache/kagglehub/datasets/grassknoted/asl-alphabet/versions/1/asl_alphabet_train/asl_alphabet_train/O/O15*.jpg': No such file or directory\n",
      "mv: cannot stat '/root/.cache/kagglehub/datasets/grassknoted/asl-alphabet/versions/1/asl_alphabet_train/asl_alphabet_train/P/P15*.jpg': No such file or directory\n",
      "mv: cannot stat '/root/.cache/kagglehub/datasets/grassknoted/asl-alphabet/versions/1/asl_alphabet_train/asl_alphabet_train/Q/Q15*.jpg': No such file or directory\n",
      "mv: cannot stat '/root/.cache/kagglehub/datasets/grassknoted/asl-alphabet/versions/1/asl_alphabet_train/asl_alphabet_train/R/R15*.jpg': No such file or directory\n",
      "mv: cannot stat '/root/.cache/kagglehub/datasets/grassknoted/asl-alphabet/versions/1/asl_alphabet_train/asl_alphabet_train/S/S15*.jpg': No such file or directory\n",
      "mv: cannot stat '/root/.cache/kagglehub/datasets/grassknoted/asl-alphabet/versions/1/asl_alphabet_train/asl_alphabet_train/T/T15*.jpg': No such file or directory\n",
      "mv: cannot stat '/root/.cache/kagglehub/datasets/grassknoted/asl-alphabet/versions/1/asl_alphabet_train/asl_alphabet_train/U/U15*.jpg': No such file or directory\n",
      "mv: cannot stat '/root/.cache/kagglehub/datasets/grassknoted/asl-alphabet/versions/1/asl_alphabet_train/asl_alphabet_train/V/V15*.jpg': No such file or directory\n",
      "mv: cannot stat '/root/.cache/kagglehub/datasets/grassknoted/asl-alphabet/versions/1/asl_alphabet_train/asl_alphabet_train/W/W15*.jpg': No such file or directory\n",
      "mv: cannot stat '/root/.cache/kagglehub/datasets/grassknoted/asl-alphabet/versions/1/asl_alphabet_train/asl_alphabet_train/X/X15*.jpg': No such file or directory\n",
      "mv: cannot stat '/root/.cache/kagglehub/datasets/grassknoted/asl-alphabet/versions/1/asl_alphabet_train/asl_alphabet_train/Y/Y15*.jpg': No such file or directory\n",
      "mv: cannot stat '/root/.cache/kagglehub/datasets/grassknoted/asl-alphabet/versions/1/asl_alphabet_train/asl_alphabet_train/Z/Z15*.jpg': No such file or directory\n"
     ]
    }
   ],
   "source": [
    "import string\n",
    "os.system(\"mkdir /root/.cache/kagglehub/datasets/grassknoted/asl-alphabet/versions/1/asl_alphabet_train/newtesting\")\n",
    "for i in string.ascii_uppercase:\n",
    "    deleteString = \"mv /root/.cache/kagglehub/datasets/grassknoted/asl-alphabet/versions/1/asl_alphabet_train/asl_alphabet_train/\" + i + \"/\" + i + \"15*.jpg /root/.cache/kagglehub/datasets/grassknoted/asl-alphabet/versions/1/asl_alphabet_train/newtesting/\"\n",
    "    os.system(deleteString)"
   ]
  },
  {
   "cell_type": "code",
   "execution_count": 7,
   "metadata": {
    "execution": {
     "iopub.execute_input": "2024-11-18T00:54:17.284516Z",
     "iopub.status.busy": "2024-11-18T00:54:17.284205Z",
     "iopub.status.idle": "2024-11-18T00:54:22.269562Z",
     "shell.execute_reply": "2024-11-18T00:54:22.268455Z",
     "shell.execute_reply.started": "2024-11-18T00:54:17.284490Z"
    }
   },
   "outputs": [
    {
     "name": "stdout",
     "output_type": "stream",
     "text": [
      "b'/root/.cache/kagglehub/datasets/grassknoted/asl-alphabet/versions/1/asl_alphabet_train/asl_alphabet_train/X/X2808.jpg'\n",
      "b'/root/.cache/kagglehub/datasets/grassknoted/asl-alphabet/versions/1/asl_alphabet_train/asl_alphabet_train/S/S1103.jpg'\n",
      "b'/root/.cache/kagglehub/datasets/grassknoted/asl-alphabet/versions/1/asl_alphabet_train/asl_alphabet_train/S/S1615.jpg'\n",
      "b'/root/.cache/kagglehub/datasets/grassknoted/asl-alphabet/versions/1/asl_alphabet_train/asl_alphabet_train/N/N356.jpg'\n",
      "b'/root/.cache/kagglehub/datasets/grassknoted/asl-alphabet/versions/1/asl_alphabet_train/asl_alphabet_train/O/O762.jpg'\n",
      "/root/.cache/kagglehub/datasets/grassknoted/asl-alphabet/versions/1/asl_alphabet_train/asl_alphabet_train\n",
      "*\n",
      "Image shape: (256, 96, 96, 3)\n",
      "Label shape: (256,)\n"
     ]
    }
   ],
   "source": [
    "import string\n",
    "# Convert labels ('A', 'B', ...) to integer indices (0, 1, 2, ...)\n",
    "def create_label_lookup_table():\n",
    "    letters = ['A', 'B', 'C', 'D', 'E', 'F', 'G', 'H', 'I', 'J', 'K', 'L', 'M', 'N', 'O', 'P', 'Q', 'R', 'S', 'T', 'U', 'V', 'W', 'X', 'Y', 'Z']\n",
    "    # Create a lookup table to map the label (string) to its integer index\n",
    "    return tf.lookup.StaticHashTable(\n",
    "        tf.lookup.KeyValueTensorInitializer(\n",
    "            keys=tf.constant(letters), values=tf.constant(range(len(letters)), dtype=tf.int64)),\n",
    "        default_value=-1)\n",
    "\n",
    "# Initialize the lookup table\n",
    "label_lookup_table = create_label_lookup_table()\n",
    "\n",
    "path = \"/root/.cache/kagglehub/datasets/grassknoted/asl-alphabet/versions/1/asl_alphabet_train/asl_alphabet_train\"\n",
    "dataset = tf.data.Dataset.list_files(path + '/*/*.jpg')\n",
    "\n",
    "for i in dataset.take(5):\n",
    "    print(i.numpy())\n",
    "def getImage(filename):\n",
    "    label = tf.strings.split(filename, os.sep)[-2]\n",
    "    label = tf.strings.upper(label)  # Ensure label is uppercase\n",
    "    \n",
    "    # Use the lookup table to convert the label to integer index\n",
    "    label = label_lookup_table.lookup(label)\n",
    "    image = tf.io.read_file(filename)\n",
    "    image = tf.image.decode_jpeg(image, channels=3)\n",
    "    image = tf.image.resize(image, [96, 96])  \n",
    "    #image = image / 255.0  # Normalize to [0, 1]\n",
    "    image = tf.image.random_flip_left_right(image)\n",
    "    image = tf.image.random_brightness(image, max_delta=0.2)\n",
    "    random_delta = tf.random.uniform([], minval=-.1, maxval=.1, dtype=tf.float32)\n",
    "    image = tf.image.adjust_hue(image, delta=random_delta)\n",
    "    image = tf.image.adjust_brightness(image, delta=random_delta)\n",
    "    return image, label\n",
    "\n",
    "\n",
    "\n",
    "path2 = \"/root/.cache/kagglehub/datasets/grassknoted/asl-alphabet/versions/1/asl_alphabet_train/asl_alphabet_train\" + \"/*/*.jpg\"\n",
    "label = tf.strings.split(path2, os.sep)[-2]\n",
    "print(os.path.dirname(os.path.dirname(path2)))\n",
    "print(label.numpy().decode('utf-8'))\n",
    "dataset = dataset.map(getImage)\n",
    "dataset = dataset.shuffle(buffer_size=4000).batch(256)  # Shuffle the dataset\n",
    "dataset = dataset.prefetch(tf.data.AUTOTUNE)\n",
    "for image, label in dataset.take(1):\n",
    "    print(\"Image shape:\", image.shape)\n",
    "    print(\"Label shape:\", label.shape)\n",
    "#aug = ImageDataGenerator(rotation_range=25, width_shift_range=0.1, height_shift_range=0.1, \n",
    "#                         shear_range=0.2, zoom_range=0.2, horizontal_flip=True, fill_mode=\"nearest\")\n",
    "#for i in string.ascii_uppercase:\n",
    "#    deleteString = \"mv /root/.cache/kagglehub/datasets/grassknoted/asl-alphabet/versions/1/asl_alphabet_train/asl_alphabet_train/\" + i + \"/\" + i + \"15*.jpg /root/.cache/kagglehub/datasets/grassknoted/asl-alphabet/versions/1/asl_alphabet_train/newtesting/\"\n",
    "#    os.system(deleteString)\n",
    "#    deleteString2 = \"rm /root/.cache/kagglehub/datasets/grassknoted/asl-alphabet/versions/1/asl_alphabet_train/asl_alphabet_train/\" + i + \"/\" + i + \"2*.jpg\"\n",
    "#    os.system(deleteString2)\n",
    "#    deleteString3 = \"rm /root/.cache/kagglehub/datasets/grassknoted/asl-alphabet/versions/1/asl_alphabet_train/asl_alphabet_train/\" + i + \"/\" + i + \"8*.jpg\"\n",
    "#    os.system(deleteString3)\n",
    "    # Create a tf.data.Dataset from a directory of images and their labels\n"
   ]
  },
  {
   "cell_type": "code",
   "execution_count": 8,
   "metadata": {
    "execution": {
     "iopub.execute_input": "2024-11-18T00:54:25.586285Z",
     "iopub.status.busy": "2024-11-18T00:54:25.585926Z",
     "iopub.status.idle": "2024-11-18T00:54:25.590995Z",
     "shell.execute_reply": "2024-11-18T00:54:25.590002Z",
     "shell.execute_reply.started": "2024-11-18T00:54:25.586257Z"
    }
   },
   "outputs": [],
   "source": [
    "epochs = 20 #how many times it reads through is what epochs is. \n",
    "lr = 1e-3 #learning rate\n",
    "batch_size = 256 #how many images to look at a time\n",
    "img_dims = (96,96,3) # Height, width, num of RGB channels"
   ]
  },
  {
   "cell_type": "code",
   "execution_count": 9,
   "metadata": {
    "execution": {
     "iopub.execute_input": "2024-11-08T22:42:13.759226Z",
     "iopub.status.busy": "2024-11-08T22:42:13.758739Z",
     "iopub.status.idle": "2024-11-08T22:42:14.085767Z",
     "shell.execute_reply": "2024-11-08T22:42:14.084782Z",
     "shell.execute_reply.started": "2024-11-08T22:42:13.759208Z"
    }
   },
   "outputs": [],
   "source": [
    "#data = []\n",
    "#labels = []\n",
    "#arrays for data and labels \n",
    "#image_files = [f for f in glob.glob(r'/root/.cache/kagglehub/datasets/grassknoted/asl-alphabet/versions/1/asl_alphabet_train/asl_alphabet_train' + \"/**/*\", recursive=True) if not os.path.isdir(f)]\n",
    "#takes the image files from the files and then put it in the arrays\n",
    "#random.shuffle(image_files) #shuffling the image files. \n",
    "#glob.glob is like a library that reads in data files and searching for files that follow a data pattern. "
   ]
  },
  {
   "cell_type": "code",
   "execution_count": null,
   "metadata": {
    "execution": {
     "iopub.execute_input": "2024-11-08T22:42:14.090876Z",
     "iopub.status.busy": "2024-11-08T22:42:14.089293Z",
     "iopub.status.idle": "2024-11-08T22:42:42.677789Z",
     "shell.execute_reply": "2024-11-08T22:42:42.676739Z",
     "shell.execute_reply.started": "2024-11-08T22:42:14.090876Z"
    }
   },
   "outputs": [],
   "source": [
    "# Adds images to array, also gives it a label\n",
    "\n",
    "#for img in image_files:\n",
    "#    image = cv2.imread(img)#look at image\n",
    "#    image = cv2.resize(image, (img_dims[0], img_dims[1])) # Resizes every image to be the same size. \n",
    "#    image = img_to_array(image)#convert to array\n",
    "#    data.append(image)#add to data list \n",
    "\n",
    "#    label = img.split(os.path.sep)[-2]#add label to each image classifying what the alphabet is for each image. \n",
    "#    label = ord(label) - ord('A') # Convert label to numerical value (0-25)\n",
    "#    labels.append([label])# actually add to data list. \n",
    "\n",
    "# Data pre-processing, converts data and labels to numpy array (Easier for computer to work with numpy arrays instead of normal arrays. )\n",
    "#try:\n",
    "#   data = np.array(data, dtype='float') / 255.0 \n",
    "#    labels = np.array(labels)\n",
    "#except Exception as e:\n",
    "#    print(f\"Error converting data to numpy array: {e}\")"
   ]
  },
  {
   "cell_type": "code",
   "execution_count": null,
   "metadata": {
    "execution": {
     "iopub.execute_input": "2024-11-08T22:42:42.680245Z",
     "iopub.status.busy": "2024-11-08T22:42:42.679650Z",
     "iopub.status.idle": "2024-11-08T22:42:44.725405Z",
     "shell.execute_reply": "2024-11-08T22:42:44.722399Z",
     "shell.execute_reply.started": "2024-11-08T22:42:42.680245Z"
    }
   },
   "outputs": [
    {
     "ename": "TypeError",
     "evalue": "'tuple' object is not callable",
     "output_type": "error",
     "traceback": [
      "\u001b[0;31m---------------------------------------------------------------------------\u001b[0m",
      "\u001b[0;31mTypeError\u001b[0m                                 Traceback (most recent call last)",
      "Cell \u001b[0;32mIn[11], line 13\u001b[0m\n\u001b[1;32m     10\u001b[0m \u001b[38;5;66;03m# Augmentation of dataset (Changes and adds error and adds altered version of the training data.)\u001b[39;00m\n\u001b[1;32m     11\u001b[0m aug \u001b[38;5;241m=\u001b[39m ImageDataGenerator(rotation_range\u001b[38;5;241m=\u001b[39m\u001b[38;5;241m25\u001b[39m, width_shift_range\u001b[38;5;241m=\u001b[39m\u001b[38;5;241m0.1\u001b[39m, height_shift_range\u001b[38;5;241m=\u001b[39m\u001b[38;5;241m0.1\u001b[39m, \n\u001b[1;32m     12\u001b[0m                          shear_range\u001b[38;5;241m=\u001b[39m\u001b[38;5;241m0.2\u001b[39m, zoom_range\u001b[38;5;241m=\u001b[39m\u001b[38;5;241m0.2\u001b[39m, horizontal_flip\u001b[38;5;241m=\u001b[39m\u001b[38;5;28;01mTrue\u001b[39;00m, fill_mode\u001b[38;5;241m=\u001b[39m\u001b[38;5;124m\"\u001b[39m\u001b[38;5;124mnearest\u001b[39m\u001b[38;5;124m\"\u001b[39m)\n\u001b[0;32m---> 13\u001b[0m \u001b[38;5;28mprint\u001b[39m(\u001b[43mtrainX\u001b[49m\u001b[38;5;241;43m.\u001b[39;49m\u001b[43mshape\u001b[49m\u001b[43m(\u001b[49m\u001b[43m)\u001b[49m)\n",
      "\u001b[0;31mTypeError\u001b[0m: 'tuple' object is not callable"
     ]
    }
   ],
   "source": [
    "# Splits dataset into training and testing\n",
    "# test_size = 0.2 means that 20% of the dataset will be used for testing\n",
    "#trainX, testX, trainY, testY = train_test_split(data, labels, test_size = 0.2, random_state=42)\n",
    "\n",
    "#trainY = to_categorical(trainY, num_classes=26)#we have 26 folders for 26 aplhabets. \n",
    "#testY = to_categorical(testY, num_classes=26)\n",
    "\n",
    "#data = []\n",
    "#labels = []\n",
    "# Augmentation of dataset (Changes and adds error and adds altered version of the training data.)\n",
    "#aug = ImageDataGenerator(rotation_range=25, width_shift_range=0.1, height_shift_range=0.1, \n",
    "#                         shear_range=0.2, zoom_range=0.2, horizontal_flip=True, fill_mode=\"nearest\")\n"
   ]
  },
  {
   "cell_type": "code",
   "execution_count": null,
   "metadata": {
    "execution": {
     "iopub.execute_input": "2024-11-18T00:54:33.675548Z",
     "iopub.status.busy": "2024-11-18T00:54:33.674815Z",
     "iopub.status.idle": "2024-11-18T00:54:39.751215Z",
     "shell.execute_reply": "2024-11-18T00:54:39.750116Z",
     "shell.execute_reply.started": "2024-11-18T00:54:33.675516Z"
    }
   },
   "outputs": [
    {
     "name": "stdout",
     "output_type": "stream",
     "text": [
      "(2886, 96, 96, 3)\n",
      "(2886,)\n",
      "tf.Tensor(21, shape=(), dtype=int64)\n"
     ]
    }
   ],
   "source": [
    "# Function to extract label from the filename\n",
    "def extract_label(filename):\n",
    "    # Assuming the label is the first character (like 'Y' in 'Y1522.jpg')\n",
    "    label = filename.split(os.sep)[-1][0]  # Extract first letter of the filename\n",
    "    return label\n",
    "\n",
    "# Function to load and preprocess the image\n",
    "def load_image(filename):\n",
    "    # Read the image file\n",
    "    image = tf.io.read_file(filename)\n",
    "    image = tf.image.decode_jpeg(image, channels=3)  # Decode the image as RGB\n",
    "    image = tf.image.resize(image, [96, 96])  # Resize image to 96x96\n",
    "    return image\n",
    "\n",
    "# Function to prepare the dataset of images and labels\n",
    "def prepare_dataset(directory):\n",
    "    # Get all the image files in the directory\n",
    "    image_files = [os.path.join(directory, fname) for fname in os.listdir(directory) if fname.endswith('.jpg')]\n",
    "\n",
    "    images = []\n",
    "    labels = []\n",
    "    \n",
    "    for file in image_files:\n",
    "        # Load the image and its label\n",
    "        image = load_image(file)\n",
    "        label_str = extract_label(file)\n",
    "        \n",
    "        # Convert label to integer index (e.g., 'A' -> 0, 'B' -> 1, ..., 'Z' -> 25)\n",
    "        label = ord(label_str) - ord('A')\n",
    "        \n",
    "        # Append the image and label\n",
    "        images.append(image)\n",
    "        labels.append(label)\n",
    "    \n",
    "    # Convert the lists to tensors\n",
    "    images_tensor = tf.convert_to_tensor(images)\n",
    "    labels_tensor = tf.convert_to_tensor(labels, dtype=tf.int64)\n",
    "    \n",
    "    return images_tensor, labels_tensor\n",
    "\n",
    "\n",
    "directory = '/root/.cache/kagglehub/datasets/grassknoted/asl-alphabet/versions/1/asl_alphabet_train/newtesting' \n",
    "testX, testY = prepare_dataset(directory)\n",
    "print(testX.shape)\n",
    "print(testY.shape)\n",
    "print(testY[0])\n"
   ]
  },
  {
   "cell_type": "code",
   "execution_count": 10,
   "metadata": {
    "execution": {
     "iopub.execute_input": "2024-11-18T00:54:46.866459Z",
     "iopub.status.busy": "2024-11-18T00:54:46.866138Z",
     "iopub.status.idle": "2024-11-18T00:54:46.876194Z",
     "shell.execute_reply": "2024-11-18T00:54:46.875173Z",
     "shell.execute_reply.started": "2024-11-18T00:54:46.866435Z"
    }
   },
   "outputs": [],
   "source": [
    "# Height and width of image (96 x 96)\n",
    "# Depth is RGB values\n",
    "def build(height, width, depth, classes):\n",
    "    model = Sequential()\n",
    "    inputShape = (height, width, depth)\n",
    "    chanDim = -1\n",
    "\n",
    "    # Need to check whether channels are first or last\n",
    "    if K.image_data_format() == 'channels_first':\n",
    "        inputShape = (depth, height, width)\n",
    "        chanDim = 1\n",
    "    # Adding convolution layer\n",
    "    model.add(Conv2D(32, (3,3), padding='same', input_shape=inputShape)) # 32 filters, 3x3 image - passes over picture to highlight features\n",
    "    model.add(Activation('relu')) #chooses what is actually a distinguishing feature\n",
    "    model.add(BatchNormalization(axis=chanDim)) # Normalizing the values \n",
    "    # (Some data points may have high value, others may be low, causing the higher values to overshadow the lower values)\n",
    "    # Max pooling, done to reduce unwanted values AKA noise in data set\n",
    "    model.add(MaxPooling2D(pool_size=(3,3))) #ignores unwanted things in a dataset - only done on half\n",
    "    model.add(Dropout(0.25)) # Prevents overfitting - ignores some of the dataset\n",
    "\n",
    "    model.add(Conv2D(64, (3,3), padding=\"same\"))\n",
    "    model.add(Activation(\"relu\"))\n",
    "    model.add(BatchNormalization(axis=chanDim))\n",
    "    \n",
    "    model.add(Conv2D(64, (3,3), padding=\"same\"))\n",
    "    model.add(Activation(\"relu\"))\n",
    "    model.add(BatchNormalization(axis=chanDim))\n",
    "    model.add(MaxPooling2D(pool_size=(2,2)))\n",
    "    model.add(Dropout(0.25))\n",
    "\n",
    "    model.add(Conv2D(128, (3,3), padding=\"same\"))\n",
    "    model.add(Activation(\"relu\"))\n",
    "    model.add(BatchNormalization(axis=chanDim))\n",
    "\n",
    "    model.add(Conv2D(128, (3,3), padding=\"same\"))\n",
    "    model.add(Activation(\"relu\"))\n",
    "    model.add(BatchNormalization(axis=chanDim))\n",
    "    model.add(MaxPooling2D(pool_size=(2,2)))\n",
    "    model.add(Dropout(0.25))\n",
    "    \n",
    "    model.add(Flatten()) # Flattened so our layers are 1D to be passed into dense layer\n",
    "    model.add(Dense(1024)) #combines all feature map patterns to make prediction\n",
    "    model.add(Activation('relu'))\n",
    "    model.add(BatchNormalization())\n",
    "    model.add(Dropout(0.5))\n",
    "\n",
    "    model.add(Dense(classes))\n",
    "    model.add(Activation('softmax')) #  probability of class - prob of a for example\n",
    "\n",
    "    return model\n",
    "\n"
   ]
  },
  {
   "cell_type": "code",
   "execution_count": 11,
   "metadata": {
    "execution": {
     "iopub.execute_input": "2024-11-18T00:54:50.137486Z",
     "iopub.status.busy": "2024-11-18T00:54:50.136713Z",
     "iopub.status.idle": "2024-11-18T00:54:50.724119Z",
     "shell.execute_reply": "2024-11-18T00:54:50.723154Z",
     "shell.execute_reply.started": "2024-11-18T00:54:50.137446Z"
    }
   },
   "outputs": [
    {
     "name": "stdout",
     "output_type": "stream",
     "text": [
      "Model: \"sequential\"\n",
      "_________________________________________________________________\n",
      " Layer (type)                Output Shape              Param #   \n",
      "=================================================================\n",
      " conv2d (Conv2D)             (None, 96, 96, 32)        896       \n",
      "                                                                 \n",
      " activation (Activation)     (None, 96, 96, 32)        0         \n",
      "                                                                 \n",
      " batch_normalization (Batch  (None, 96, 96, 32)        128       \n",
      " Normalization)                                                  \n",
      "                                                                 \n",
      " max_pooling2d (MaxPooling2  (None, 32, 32, 32)        0         \n",
      " D)                                                              \n",
      "                                                                 \n",
      " dropout (Dropout)           (None, 32, 32, 32)        0         \n",
      "                                                                 \n",
      " conv2d_1 (Conv2D)           (None, 32, 32, 64)        18496     \n",
      "                                                                 \n",
      " activation_1 (Activation)   (None, 32, 32, 64)        0         \n",
      "                                                                 \n",
      " batch_normalization_1 (Bat  (None, 32, 32, 64)        256       \n",
      " chNormalization)                                                \n",
      "                                                                 \n",
      " conv2d_2 (Conv2D)           (None, 32, 32, 64)        36928     \n",
      "                                                                 \n",
      " activation_2 (Activation)   (None, 32, 32, 64)        0         \n",
      "                                                                 \n",
      " batch_normalization_2 (Bat  (None, 32, 32, 64)        256       \n",
      " chNormalization)                                                \n",
      "                                                                 \n",
      " max_pooling2d_1 (MaxPoolin  (None, 16, 16, 64)        0         \n",
      " g2D)                                                            \n",
      "                                                                 \n",
      " dropout_1 (Dropout)         (None, 16, 16, 64)        0         \n",
      "                                                                 \n",
      " conv2d_3 (Conv2D)           (None, 16, 16, 128)       73856     \n",
      "                                                                 \n",
      " activation_3 (Activation)   (None, 16, 16, 128)       0         \n",
      "                                                                 \n",
      " batch_normalization_3 (Bat  (None, 16, 16, 128)       512       \n",
      " chNormalization)                                                \n",
      "                                                                 \n",
      " conv2d_4 (Conv2D)           (None, 16, 16, 128)       147584    \n",
      "                                                                 \n",
      " activation_4 (Activation)   (None, 16, 16, 128)       0         \n",
      "                                                                 \n",
      " batch_normalization_4 (Bat  (None, 16, 16, 128)       512       \n",
      " chNormalization)                                                \n",
      "                                                                 \n",
      " max_pooling2d_2 (MaxPoolin  (None, 8, 8, 128)         0         \n",
      " g2D)                                                            \n",
      "                                                                 \n",
      " dropout_2 (Dropout)         (None, 8, 8, 128)         0         \n",
      "                                                                 \n",
      " flatten (Flatten)           (None, 8192)              0         \n",
      "                                                                 \n",
      " dense (Dense)               (None, 1024)              8389632   \n",
      "                                                                 \n",
      " activation_5 (Activation)   (None, 1024)              0         \n",
      "                                                                 \n",
      " batch_normalization_5 (Bat  (None, 1024)              4096      \n",
      " chNormalization)                                                \n",
      "                                                                 \n",
      " dropout_3 (Dropout)         (None, 1024)              0         \n",
      "                                                                 \n",
      " dense_1 (Dense)             (None, 26)                26650     \n",
      "                                                                 \n",
      " activation_6 (Activation)   (None, 26)                0         \n",
      "                                                                 \n",
      "=================================================================\n",
      "Total params: 8699802 (33.19 MB)\n",
      "Trainable params: 8696922 (33.18 MB)\n",
      "Non-trainable params: 2880 (11.25 KB)\n",
      "_________________________________________________________________\n"
     ]
    },
    {
     "name": "stderr",
     "output_type": "stream",
     "text": [
      "/usr/local/lib/python3.11/dist-packages/keras/src/optimizers/legacy/adam.py:118: UserWarning: The `lr` argument is deprecated, use `learning_rate` instead.\n",
      "  super().__init__(name, **kwargs)\n"
     ]
    }
   ],
   "source": [
    "model = build(width = img_dims[0], height = img_dims[1], depth = img_dims[2], classes = 26)\n",
    "\n",
    "# Compiles the model\n",
    "opt = keras.optimizers.legacy.Adam(lr = lr, decay = lr/epochs)\n",
    "model.compile(loss = 'categorical_crossentropy', optimizer = opt, metrics = ['accuracy'])\n",
    "model.summary()"
   ]
  },
  {
   "cell_type": "code",
   "execution_count": 14,
   "metadata": {
    "execution": {
     "iopub.execute_input": "2024-11-18T00:55:48.059040Z",
     "iopub.status.busy": "2024-11-18T00:55:48.058703Z",
     "iopub.status.idle": "2024-11-18T01:19:19.471104Z",
     "shell.execute_reply": "2024-11-18T01:19:19.470336Z",
     "shell.execute_reply.started": "2024-11-18T00:55:48.059015Z"
    }
   },
   "outputs": [
    {
     "name": "stdout",
     "output_type": "stream",
     "text": [
      "Epoch 1/20\n",
      "294/294 [==============================] - 75s 236ms/step - loss: 1.3687 - accuracy: 0.5909 - val_loss: 1.5619 - val_accuracy: 0.5811\n",
      "Epoch 2/20\n",
      "294/294 [==============================] - 72s 233ms/step - loss: 0.2671 - accuracy: 0.9114 - val_loss: 1.3166 - val_accuracy: 0.6923\n",
      "Epoch 3/20\n",
      "294/294 [==============================] - 69s 220ms/step - loss: 0.1109 - accuracy: 0.9642 - val_loss: 0.6742 - val_accuracy: 0.7990\n",
      "Epoch 4/20\n",
      "294/294 [==============================] - 72s 231ms/step - loss: 0.0253 - accuracy: 0.9918 - val_loss: 0.8707 - val_accuracy: 0.8021\n",
      "Epoch 10/20\n",
      "294/294 [==============================] - 70s 226ms/step - loss: 0.0206 - accuracy: 0.9933 - val_loss: 1.2605 - val_accuracy: 0.7717\n",
      "Epoch 11/20\n",
      "294/294 [==============================] - 69s 222ms/step - loss: 0.0195 - accuracy: 0.9935 - val_loss: 0.2339 - val_accuracy: 0.9304\n",
      "Epoch 12/20\n",
      "294/294 [==============================] - 72s 232ms/step - loss: 0.0200 - accuracy: 0.9933 - val_loss: 0.7628 - val_accuracy: 0.8909\n",
      "Epoch 13/20\n",
      "294/294 [==============================] - 74s 237ms/step - loss: 0.0150 - accuracy: 0.9951 - val_loss: 0.7204 - val_accuracy: 0.8600\n",
      "Epoch 14/20\n",
      "294/294 [==============================] - 71s 228ms/step - loss: 0.0167 - accuracy: 0.9944 - val_loss: 0.4702 - val_accuracy: 0.9019\n",
      "Epoch 15/20\n",
      "294/294 [==============================] - 69s 222ms/step - loss: 0.0128 - accuracy: 0.9958 - val_loss: 0.2906 - val_accuracy: 0.9328\n",
      "Epoch 16/20\n",
      "294/294 [==============================] - 67s 216ms/step - loss: 0.0142 - accuracy: 0.9953 - val_loss: 0.7196 - val_accuracy: 0.8590\n",
      "Epoch 17/20\n",
      "294/294 [==============================] - 71s 228ms/step - loss: 0.0143 - accuracy: 0.9952 - val_loss: 0.8843 - val_accuracy: 0.8451\n",
      "Epoch 18/20\n",
      "294/294 [==============================] - 69s 221ms/step - loss: 0.0149 - accuracy: 0.9950 - val_loss: 1.6629 - val_accuracy: 0.7335\n",
      "Epoch 19/20\n",
      "294/294 [==============================] - 73s 236ms/step - loss: 0.0108 - accuracy: 0.9963 - val_loss: 0.3149 - val_accuracy: 0.9279\n",
      "Epoch 20/20\n",
      "294/294 [==============================] - 67s 216ms/step - loss: 0.0132 - accuracy: 0.9956 - val_loss: 0.2018 - val_accuracy: 0.9688\n"
     ]
    }
   ],
   "source": [
    "# Builds the model\n",
    "with tf.device('/GPU:0'):\n",
    "    model = build(width = img_dims[0], height = img_dims[1], depth = img_dims[2], classes = 26)\n",
    "\n",
    "# Compiles the model\n",
    "    opt = keras.optimizers.legacy.Adam(lr = lr, decay = lr/epochs)\n",
    "    model.compile(loss = 'sparse_categorical_crossentropy', optimizer = opt, metrics = ['accuracy'])\n",
    "\n",
    "# Trains the model\n",
    "    H = model.fit(dataset, validation_data=(testX, testY), epochs = epochs)"
   ]
  },
  {
   "cell_type": "code",
   "execution_count": null,
   "metadata": {
    "execution": {
     "iopub.execute_input": "2024-11-18T01:19:19.473530Z",
     "iopub.status.busy": "2024-11-18T01:19:19.472466Z",
     "iopub.status.idle": "2024-11-18T01:19:19.767155Z"
    }
   },
   "outputs": [
    {
     "name": "stdout",
     "output_type": "stream",
     "text": [
      "Model: \"sequential_2\"\n",
      "_________________________________________________________________\n",
      " Layer (type)                Output Shape              Param #   \n",
      "=================================================================\n",
      " conv2d_10 (Conv2D)          (None, 96, 96, 32)        896       \n",
      "                                                                 \n",
      " activation_14 (Activation)  (None, 96, 96, 32)        0         \n",
      "                                                                 \n",
      " batch_normalization_12 (Ba  (None, 96, 96, 32)        128       \n",
      " tchNormalization)                                               \n",
      "                                                                 \n",
      " max_pooling2d_6 (MaxPoolin  (None, 32, 32, 32)        0         \n",
      " g2D)                                                            \n",
      "                                                                 \n",
      " dropout_8 (Dropout)         (None, 32, 32, 32)        0         \n",
      "                                                                 \n",
      " conv2d_11 (Conv2D)          (None, 32, 32, 64)        18496     \n",
      "                                                                 \n",
      " activation_15 (Activation)  (None, 32, 32, 64)        0         \n",
      "                                                                 \n",
      " batch_normalization_13 (Ba  (None, 32, 32, 64)        256       \n",
      " tchNormalization)                                               \n",
      "                                                                 \n",
      " conv2d_12 (Conv2D)          (None, 32, 32, 64)        36928     \n",
      "                                                                 \n",
      " activation_16 (Activation)  (None, 32, 32, 64)        0         \n",
      "                                                                 \n",
      " batch_normalization_14 (Ba  (None, 32, 32, 64)        256       \n",
      " tchNormalization)                                               \n",
      "                                                                 \n",
      " max_pooling2d_7 (MaxPoolin  (None, 16, 16, 64)        0         \n",
      " g2D)                                                            \n",
      "                                                                 \n",
      " dropout_9 (Dropout)         (None, 16, 16, 64)        0         \n",
      "                                                                 \n",
      " conv2d_13 (Conv2D)          (None, 16, 16, 128)       73856     \n",
      "                                                                 \n",
      " activation_17 (Activation)  (None, 16, 16, 128)       0         \n",
      "                                                                 \n",
      " batch_normalization_15 (Ba  (None, 16, 16, 128)       512       \n",
      " tchNormalization)                                               \n",
      "                                                                 \n",
      " conv2d_14 (Conv2D)          (None, 16, 16, 128)       147584    \n",
      "                                                                 \n",
      " activation_18 (Activation)  (None, 16, 16, 128)       0         \n",
      "                                                                 \n",
      " batch_normalization_16 (Ba  (None, 16, 16, 128)       512       \n",
      " tchNormalization)                                               \n",
      "                                                                 \n",
      " max_pooling2d_8 (MaxPoolin  (None, 8, 8, 128)         0         \n",
      " g2D)                                                            \n",
      "                                                                 \n",
      " dropout_10 (Dropout)        (None, 8, 8, 128)         0         \n",
      "                                                                 \n",
      " flatten_2 (Flatten)         (None, 8192)              0         \n",
      "                                                                 \n",
      " dense_4 (Dense)             (None, 1024)              8389632   \n",
      "                                                                 \n",
      " activation_19 (Activation)  (None, 1024)              0         \n",
      "                                                                 \n",
      " batch_normalization_17 (Ba  (None, 1024)              4096      \n",
      " tchNormalization)                                               \n",
      "                                                                 \n",
      " dropout_11 (Dropout)        (None, 1024)              0         \n",
      "                                                                 \n",
      " dense_5 (Dense)             (None, 26)                26650     \n",
      "                                                                 \n",
      " activation_20 (Activation)  (None, 26)                0         \n",
      "                                                                 \n",
      "=================================================================\n",
      "Total params: 8699802 (33.19 MB)\n",
      "Trainable params: 8696922 (33.18 MB)\n",
      "Non-trainable params: 2880 (11.25 KB)\n",
      "_________________________________________________________________\n"
     ]
    }
   ],
   "source": [
    "model.save('sign_language_detection5.keras')\n",
    "model.summary()"
   ]
  },
  {
   "cell_type": "code",
   "execution_count": null,
   "metadata": {
    "execution": {
     "iopub.execute_input": "2024-11-18T01:19:20.166762Z",
     "iopub.status.busy": "2024-11-18T01:19:20.166548Z",
     "iopub.status.idle": "2024-11-18T01:19:21.528998Z"
    }
   },
   "outputs": [
    {
     "name": "stdout",
     "output_type": "stream",
     "text": [
      "91/91 [==============================] - 1s 7ms/step - loss: 0.2018 - accuracy: 0.9688\n"
     ]
    },
    {
     "data": {
      "text/plain": [
       "[0.20175734162330627, 0.9688149690628052]"
      ]
     },
     "execution_count": 17,
     "metadata": {},
     "output_type": "execute_result"
    }
   ],
   "source": [
    "model.load_weights(\"sign_language_detection5.keras\");\n",
    "\n",
    "model.evaluate(testX, testY)"
   ]
  },
  {
   "cell_type": "code",
   "execution_count": null,
   "metadata": {
    "execution": {
     "iopub.execute_input": "2024-11-18T01:19:19.779173Z",
     "iopub.status.busy": "2024-11-18T01:19:19.778960Z",
     "iopub.status.idle": "2024-11-18T01:19:20.165465Z"
    }
   },
   "outputs": [
    {
     "data": {
      "image/png": "[encoded data removed]",
      "text/plain": [
       "<Figure size 640x480 with 1 Axes>"
      ]
     },
     "metadata": {},
     "output_type": "display_data"
    }
   ],
   "source": [
    "# Plot the training and validation loss and accuracy\n",
    "\n",
    "plt.style.use(\"ggplot\")\n",
    "plt.figure()\n",
    "N = epochs\n",
    "plt.plot(np.arange(0,N), H.history[\"loss\"], label=\"train_loss\")\n",
    "plt.plot(np.arange(0,N), H.history[\"val_loss\"], label=\"val_loss\")\n",
    "plt.plot(np.arange(0,N), H.history[\"accuracy\"], label=\"train_acc\")\n",
    "plt.plot(np.arange(0,N), H.history[\"val_accuracy\"], label=\"val_acc\")\n",
    "\n",
    "plt.title(\"Training Loss & Accuracy\")\n",
    "plt.xlabel(\"Epoch Number\")\n",
    "plt.ylabel(\"Loss/Accuracy\")\n",
    "plt.legend(loc=\"upper right\")\n",
    "\n",
    "# save plot to disk\n",
    "plt.savefig('plot.png')"
   ]
  }
 ],
 "metadata": {
  "kernelspec": {
   "display_name": "Python 3 (ipykernel)",
   "language": "python",
   "name": "python3"
  },
  "language_info": {
   "codemirror_mode": {
    "name": "ipython",
    "version": 3
   },
   "file_extension": ".py",
   "mimetype": "text/x-python",
   "name": "python",
   "nbconvert_exporter": "python",
   "pygments_lexer": "ipython3",
   "version": "3.11.7"
  }
 },
 "nbformat": 4,
 "nbformat_minor": 4
}
