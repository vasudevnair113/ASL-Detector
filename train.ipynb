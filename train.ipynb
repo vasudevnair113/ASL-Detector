{
 "cells": [
  {
   "cell_type": "code",
   "execution_count": 1,
   "metadata": {},
   "outputs": [],
   "source": [
    "#all imports\n",
    "from tensorflow import keras\n",
    "from keras._tf_keras.keras.preprocessing.image import ImageDataGenerator\n",
    "from keras._tf_keras.keras.optimizers import Adam\n",
    "from keras._tf_keras.keras.preprocessing.image import img_to_array\n",
    "from keras._tf_keras.keras.utils import to_categorical, plot_model\n",
    "from keras._tf_keras.keras.models import Sequential\n",
    "from keras._tf_keras.keras.layers import BatchNormalization, Conv2D, MaxPooling2D, Activation, Flatten, Dropout, Dense\n",
    "from keras import backend as K\n",
    "from sklearn.model_selection import train_test_split\n",
    "import matplotlib.pyplot as plt\n",
    "import numpy as np\n",
    "import random\n",
    "import cv2\n",
    "import os\n",
    "import glob"
   ]
  },
  {
   "cell_type": "code",
   "execution_count": 2,
   "metadata": {},
   "outputs": [],
   "source": [
    "epochs = 100 #how many times it reads through is what epochs is. \n",
    "lr = 1e-3 #learning rate\n",
    "batch_size = 64 #how many images to look at a time\n",
    "img_dims = (96,96,3) # Height, width, num of RGB channels"
   ]
  },
  {
   "cell_type": "code",
   "execution_count": 14,
   "metadata": {},
   "outputs": [],
   "source": [
    "data = []\n",
    "labels = []\n",
    "#arrays for data and labels \n",
    "image_files = [f for f in glob.glob(r'/Users/shiva/Downloads/AI - OPENCV - ASL_DETECTOR/asl_alphabet_train/' + \"/**/*\", recursive=True) if not os.path.isdir(f)]\n",
    "#takes the image files from the files and then put it in the arrays\n",
    "random.shuffle(image_files) #shuffling the image files. \n",
    "#glob.glob is like a library that reads in data files and searching for files that follow a data pattern. "
   ]
  },
  {
   "cell_type": "code",
   "execution_count": 15,
   "metadata": {},
   "outputs": [],
   "source": [
    "# Adds images to array, also gives it a label\n",
    "for img in image_files:\n",
    "    image = cv2.imread(img)#look at image\n",
    "    image = cv2.resize(image, (img_dims[0], img_dims[1])) # Resizes every image to be the same size. \n",
    "    image = img_to_array(image)#convert to array\n",
    "    data.append(image)#add to data list \n",
    "\n",
    "    label = img.split(os.path.sep)[-2]#add label to each image classifying what the alphabet is for each image. \n",
    "    label = ord(label) - ord('A') # Convert label to numerical value (0-25)\n",
    "    labels.append([label])# actually add to data list. \n",
    "\n",
    "# Data pre-processing, converts data and labels to numpy array (Easier for computer to work with numpy arrays instead of normal arrays. )\n",
    "try:\n",
    "    data = np.array(data, dtype='float') / 255.0 \n",
    "    labels = np.array(labels)\n",
    "except Exception as e:\n",
    "    print(f\"Error converting data to numpy array: {e}\")"
   ]
  },
  {
   "cell_type": "code",
   "execution_count": 17,
   "metadata": {},
   "outputs": [],
   "source": [
    "# Splits dataset into training and testing\n",
    "# test_size = 0.2 means that 20% of the dataset will be used for testing\n",
    "(trainX, testX, trainY, testY) = train_test_split(data, labels, test_size = 0.2, random_state=42)\n",
    "\n",
    "trainY = to_categorical(trainY, num_classes=26)#we have 26 folders for 26 aplhabets. \n",
    "testY = to_categorical(testY, num_classes=26)\n",
    "\n",
    "# Augmentation of dataset (Changes and adds error and adds altered version of the training data.)\n",
    "aug = ImageDataGenerator(rotation_range=25, width_shift_range=0.1, height_shift_range=0.1, \n",
    "                         shear_range=0.2, zoom_range=0.2, horizontal_flip=True, fill_mode=\"nearest\")"
   ]
  }
 ],
 "metadata": {
  "kernelspec": {
   "display_name": ".venv",
   "language": "python",
   "name": "python3"
  },
  "language_info": {
   "codemirror_mode": {
    "name": "ipython",
    "version": 3
   },
   "file_extension": ".py",
   "mimetype": "text/x-python",
   "name": "python",
   "nbconvert_exporter": "python",
   "pygments_lexer": "ipython3",
   "version": "3.12.4"
  }
 },
 "nbformat": 4,
 "nbformat_minor": 2
}
